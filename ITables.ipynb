{
  "cells": [
    {
      "cell_type": "raw",
      "metadata": {},
      "source": [
        "---\n",
        "title: ITables\n",
        "author: Jennifer HY Lin\n",
        "date: 2023-7-19\n",
        "format: html\n",
        "filters:\n",
        "  - shinylive\n",
        "draft: true\n",
        "categories:\n",
        "  - Python\n",
        "  - Shiny\n",
        "  - Pandas\n",
        "---"
      ],
      "id": "d7273202"
    },
    {
      "cell_type": "code",
      "metadata": {},
      "source": [
        "# Import libraries\n",
        "import pandas as pd\n",
        "import polars as pl\n",
        "\n",
        "# Import RDKit\n",
        "from rdkit import Chem\n",
        "from rdkit.Chem import Draw\n",
        "from rdkit.Chem import PandasTools\n",
        "from rdkit.Chem.Draw import rdMolDraw2D, MolsToGridImage\n",
        "\n",
        "# Import itables\n",
        "from itables import init_notebook_mode, show\n",
        "init_notebook_mode(all_interactive=True)"
      ],
      "id": "73351262",
      "execution_count": null,
      "outputs": []
    },
    {
      "cell_type": "code",
      "metadata": {},
      "source": [
        "df = pl.read_csv(\"df_ai.csv\")\n",
        "df.head()"
      ],
      "id": "a4c4ec31",
      "execution_count": null,
      "outputs": []
    },
    {
      "cell_type": "code",
      "metadata": {},
      "source": [
        "#df[\"mol\"] = df.Smiles.apply(Chem.MolFromSmiles)\n",
        "#mols = df[\"mol\"]\n",
        "#type(mols)\n",
        "#mols = list(mols)\n",
        "#type(mols)\n",
        "\n",
        "\n",
        "# Polars dataframe\n",
        "df\n",
        "#df = df.with_row_count()"
      ],
      "id": "6738384a",
      "execution_count": null,
      "outputs": []
    },
    {
      "cell_type": "code",
      "metadata": {},
      "source": [
        "df = df.to_pandas()\n",
        "df.head()\n",
        "#type(df)"
      ],
      "id": "38eb0d2c",
      "execution_count": null,
      "outputs": []
    },
    {
      "cell_type": "code",
      "metadata": {},
      "source": [
        "# Convert index of Pandas df into a column\n",
        "df = df.reset_index()\n",
        "df.head()"
      ],
      "id": "abc963bf",
      "execution_count": null,
      "outputs": []
    },
    {
      "cell_type": "code",
      "metadata": {},
      "source": [
        "df"
      ],
      "id": "c790939b",
      "execution_count": null,
      "outputs": []
    }
  ],
  "metadata": {
    "kernelspec": {
      "name": "python3",
      "language": "python",
      "display_name": "Python 3 (ipykernel)"
    }
  },
  "nbformat": 4,
  "nbformat_minor": 5
}